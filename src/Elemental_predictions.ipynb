{
 "cells": [
  {
   "cell_type": "code",
   "execution_count": 1,
   "metadata": {},
   "outputs": [],
   "source": [
    "import matplotlib.pyplot as plt\n",
    "import numpy as np\n",
    "import pandas as pd\n",
    "import time"
   ]
  },
  {
   "cell_type": "code",
   "execution_count": 2,
   "metadata": {},
   "outputs": [
    {
     "name": "stdout",
     "output_type": "stream",
     "text": [
      "<class 'pandas.core.frame.DataFrame'>\n",
      "RangeIndex: 88 entries, 0 to 87\n",
      "Data columns (total 8 columns):\n",
      "Electrical Conductivity Ang        79 non-null float64\n",
      "conductivity_unit1                 86 non-null object\n",
      "Name                               88 non-null object\n",
      "Symbol                             88 non-null object\n",
      "#                                  88 non-null int64\n",
      "Electrical Conductivity Wolfram    78 non-null float64\n",
      "conductivity_unit2                 86 non-null object\n",
      "Note                               1 non-null object\n",
      "dtypes: float64(2), int64(1), object(5)\n",
      "memory usage: 5.6+ KB\n"
     ]
    }
   ],
   "source": [
    "# Conductivity values are from https://www.angstromsciences.com/elements-electrical-conductivity\n",
    "df = pd.read_excel(\"../../data/hammerfeld_criterion/Elemental_conductivities.xlsx\")\n",
    "df.info()"
   ]
  },
  {
   "cell_type": "code",
   "execution_count": 3,
   "metadata": {},
   "outputs": [
    {
     "data": {
      "text/html": [
       "<div>\n",
       "<style scoped>\n",
       "    .dataframe tbody tr th:only-of-type {\n",
       "        vertical-align: middle;\n",
       "    }\n",
       "\n",
       "    .dataframe tbody tr th {\n",
       "        vertical-align: top;\n",
       "    }\n",
       "\n",
       "    .dataframe thead th {\n",
       "        text-align: right;\n",
       "    }\n",
       "</style>\n",
       "<table border=\"1\" class=\"dataframe\">\n",
       "  <thead>\n",
       "    <tr style=\"text-align: right;\">\n",
       "      <th></th>\n",
       "      <th>Electrical Conductivity Ang</th>\n",
       "      <th>conductivity_unit1</th>\n",
       "      <th>Name</th>\n",
       "      <th>Symbol</th>\n",
       "      <th>#</th>\n",
       "      <th>Electrical Conductivity Wolfram</th>\n",
       "      <th>conductivity_unit2</th>\n",
       "      <th>Note</th>\n",
       "      <th>log_cond</th>\n",
       "    </tr>\n",
       "  </thead>\n",
       "  <tbody>\n",
       "    <tr>\n",
       "      <th>0</th>\n",
       "      <td>NaN</td>\n",
       "      <td>NaN</td>\n",
       "      <td>Hydrogen</td>\n",
       "      <td>H</td>\n",
       "      <td>1</td>\n",
       "      <td>NaN</td>\n",
       "      <td>NaN</td>\n",
       "      <td>NaN</td>\n",
       "      <td>NaN</td>\n",
       "    </tr>\n",
       "    <tr>\n",
       "      <th>1</th>\n",
       "      <td>NaN</td>\n",
       "      <td>NaN</td>\n",
       "      <td>Helium</td>\n",
       "      <td>He</td>\n",
       "      <td>2</td>\n",
       "      <td>NaN</td>\n",
       "      <td>NaN</td>\n",
       "      <td>NaN</td>\n",
       "      <td>NaN</td>\n",
       "    </tr>\n",
       "    <tr>\n",
       "      <th>2</th>\n",
       "      <td>1.080000e-01</td>\n",
       "      <td>10^6/cm</td>\n",
       "      <td>Lithium</td>\n",
       "      <td>Li</td>\n",
       "      <td>3</td>\n",
       "      <td>1.100000e+07</td>\n",
       "      <td>1/m Ω</td>\n",
       "      <td>NaN</td>\n",
       "      <td>7.041393</td>\n",
       "    </tr>\n",
       "    <tr>\n",
       "      <th>3</th>\n",
       "      <td>3.130000e-01</td>\n",
       "      <td>10^6/cm Ω</td>\n",
       "      <td>Beryllium</td>\n",
       "      <td>Be</td>\n",
       "      <td>4</td>\n",
       "      <td>2.500000e+07</td>\n",
       "      <td>1/m Ω</td>\n",
       "      <td>NaN</td>\n",
       "      <td>7.397940</td>\n",
       "    </tr>\n",
       "    <tr>\n",
       "      <th>4</th>\n",
       "      <td>1.000000e-12</td>\n",
       "      <td>10^6/cm Ω</td>\n",
       "      <td>Boron</td>\n",
       "      <td>B</td>\n",
       "      <td>5</td>\n",
       "      <td>1.000000e-04</td>\n",
       "      <td>1/m Ω</td>\n",
       "      <td>NaN</td>\n",
       "      <td>-4.000000</td>\n",
       "    </tr>\n",
       "  </tbody>\n",
       "</table>\n",
       "</div>"
      ],
      "text/plain": [
       "   Electrical Conductivity Ang conductivity_unit1       Name Symbol  #  \\\n",
       "0                          NaN                NaN   Hydrogen      H  1   \n",
       "1                          NaN                NaN     Helium     He  2   \n",
       "2                 1.080000e-01           10^6/cm     Lithium     Li  3   \n",
       "3                 3.130000e-01          10^6/cm Ω  Beryllium     Be  4   \n",
       "4                 1.000000e-12          10^6/cm Ω      Boron      B  5   \n",
       "\n",
       "   Electrical Conductivity Wolfram conductivity_unit2 Note  log_cond  \n",
       "0                              NaN                NaN  NaN       NaN  \n",
       "1                              NaN                NaN  NaN       NaN  \n",
       "2                     1.100000e+07              1/m Ω  NaN  7.041393  \n",
       "3                     2.500000e+07              1/m Ω  NaN  7.397940  \n",
       "4                     1.000000e-04              1/m Ω  NaN -4.000000  "
      ]
     },
     "execution_count": 3,
     "metadata": {},
     "output_type": "execute_result"
    }
   ],
   "source": [
    "df['log_cond'] = np.log10(df['Electrical Conductivity Wolfram'])\n",
    "df.head()"
   ]
  },
  {
   "cell_type": "code",
   "execution_count": 4,
   "metadata": {},
   "outputs": [],
   "source": [
    "df = df.dropna(subset=['log_cond'])"
   ]
  },
  {
   "cell_type": "code",
   "execution_count": 5,
   "metadata": {},
   "outputs": [
    {
     "data": {
      "text/html": [
       "<div>\n",
       "<style scoped>\n",
       "    .dataframe tbody tr th:only-of-type {\n",
       "        vertical-align: middle;\n",
       "    }\n",
       "\n",
       "    .dataframe tbody tr th {\n",
       "        vertical-align: top;\n",
       "    }\n",
       "\n",
       "    .dataframe thead th {\n",
       "        text-align: right;\n",
       "    }\n",
       "</style>\n",
       "<table border=\"1\" class=\"dataframe\">\n",
       "  <thead>\n",
       "    <tr style=\"text-align: right;\">\n",
       "      <th></th>\n",
       "      <th>Electrical Conductivity Ang</th>\n",
       "      <th>#</th>\n",
       "      <th>Electrical Conductivity Wolfram</th>\n",
       "      <th>log_cond</th>\n",
       "    </tr>\n",
       "  </thead>\n",
       "  <tbody>\n",
       "    <tr>\n",
       "      <th>count</th>\n",
       "      <td>7.600000e+01</td>\n",
       "      <td>78.000000</td>\n",
       "      <td>7.800000e+01</td>\n",
       "      <td>78.000000</td>\n",
       "    </tr>\n",
       "    <tr>\n",
       "      <th>mean</th>\n",
       "      <td>9.066608e-02</td>\n",
       "      <td>49.500000</td>\n",
       "      <td>8.973115e+06</td>\n",
       "      <td>5.750734</td>\n",
       "    </tr>\n",
       "    <tr>\n",
       "      <th>std</th>\n",
       "      <td>1.258432e-01</td>\n",
       "      <td>25.498536</td>\n",
       "      <td>1.230190e+07</td>\n",
       "      <td>3.669199</td>\n",
       "    </tr>\n",
       "    <tr>\n",
       "      <th>min</th>\n",
       "      <td>5.000000e-24</td>\n",
       "      <td>3.000000</td>\n",
       "      <td>1.000000e-15</td>\n",
       "      <td>-15.000000</td>\n",
       "    </tr>\n",
       "    <tr>\n",
       "      <th>25%</th>\n",
       "      <td>1.165000e-02</td>\n",
       "      <td>28.250000</td>\n",
       "      <td>1.225000e+06</td>\n",
       "      <td>6.087872</td>\n",
       "    </tr>\n",
       "    <tr>\n",
       "      <th>50%</th>\n",
       "      <td>4.850000e-02</td>\n",
       "      <td>49.500000</td>\n",
       "      <td>4.900000e+06</td>\n",
       "      <td>6.690106</td>\n",
       "    </tr>\n",
       "    <tr>\n",
       "      <th>75%</th>\n",
       "      <td>1.107500e-01</td>\n",
       "      <td>70.750000</td>\n",
       "      <td>1.175000e+07</td>\n",
       "      <td>7.069734</td>\n",
       "    </tr>\n",
       "    <tr>\n",
       "      <th>max</th>\n",
       "      <td>6.300000e-01</td>\n",
       "      <td>94.000000</td>\n",
       "      <td>6.200000e+07</td>\n",
       "      <td>7.792392</td>\n",
       "    </tr>\n",
       "  </tbody>\n",
       "</table>\n",
       "</div>"
      ],
      "text/plain": [
       "       Electrical Conductivity Ang          #  \\\n",
       "count                 7.600000e+01  78.000000   \n",
       "mean                  9.066608e-02  49.500000   \n",
       "std                   1.258432e-01  25.498536   \n",
       "min                   5.000000e-24   3.000000   \n",
       "25%                   1.165000e-02  28.250000   \n",
       "50%                   4.850000e-02  49.500000   \n",
       "75%                   1.107500e-01  70.750000   \n",
       "max                   6.300000e-01  94.000000   \n",
       "\n",
       "       Electrical Conductivity Wolfram   log_cond  \n",
       "count                     7.800000e+01  78.000000  \n",
       "mean                      8.973115e+06   5.750734  \n",
       "std                       1.230190e+07   3.669199  \n",
       "min                       1.000000e-15 -15.000000  \n",
       "25%                       1.225000e+06   6.087872  \n",
       "50%                       4.900000e+06   6.690106  \n",
       "75%                       1.175000e+07   7.069734  \n",
       "max                       6.200000e+07   7.792392  "
      ]
     },
     "execution_count": 5,
     "metadata": {},
     "output_type": "execute_result"
    }
   ],
   "source": [
    "df.describe()"
   ]
  },
  {
   "cell_type": "code",
   "execution_count": 6,
   "metadata": {},
   "outputs": [
    {
     "data": {
      "image/png": "[encoded data removed]",
      "text/plain": [
       "<Figure size 1008x720 with 1 Axes>"
      ]
     },
     "metadata": {
      "needs_background": "light"
     },
     "output_type": "display_data"
    }
   ],
   "source": [
    "fontsize = 24\n",
    "fig, ax = plt.subplots(figsize=(14,10))\n",
    "df.hist(ax=ax, column='log_cond', grid=False)\n",
    "for item in ([ax.title, ax.xaxis.label, ax.yaxis.label] +\n",
    "             ax.get_xticklabels() + ax.get_yticklabels()):\n",
    "    item.set_fontsize(fontsize)\n",
    "plt.title('Histogram of log conductivity', fontsize=24)\n",
    "plt.show()"
   ]
  },
  {
   "cell_type": "code",
   "execution_count": 7,
   "metadata": {},
   "outputs": [
    {
     "data": {
      "text/html": [
       "<div>\n",
       "<style scoped>\n",
       "    .dataframe tbody tr th:only-of-type {\n",
       "        vertical-align: middle;\n",
       "    }\n",
       "\n",
       "    .dataframe tbody tr th {\n",
       "        vertical-align: top;\n",
       "    }\n",
       "\n",
       "    .dataframe thead th {\n",
       "        text-align: right;\n",
       "    }\n",
       "</style>\n",
       "<table border=\"1\" class=\"dataframe\">\n",
       "  <thead>\n",
       "    <tr style=\"text-align: right;\">\n",
       "      <th></th>\n",
       "      <th>Electrical Conductivity Ang</th>\n",
       "      <th>conductivity_unit1</th>\n",
       "      <th>Name</th>\n",
       "      <th>Symbol</th>\n",
       "      <th>#</th>\n",
       "      <th>Electrical Conductivity Wolfram</th>\n",
       "      <th>conductivity_unit2</th>\n",
       "      <th>Note</th>\n",
       "      <th>log_cond</th>\n",
       "      <th>metallic</th>\n",
       "    </tr>\n",
       "  </thead>\n",
       "  <tbody>\n",
       "    <tr>\n",
       "      <th>2</th>\n",
       "      <td>1.080000e-01</td>\n",
       "      <td>10^6/cm</td>\n",
       "      <td>Lithium</td>\n",
       "      <td>Li</td>\n",
       "      <td>3</td>\n",
       "      <td>1.100000e+07</td>\n",
       "      <td>1/m Ω</td>\n",
       "      <td>NaN</td>\n",
       "      <td>7.041393</td>\n",
       "      <td>1</td>\n",
       "    </tr>\n",
       "    <tr>\n",
       "      <th>3</th>\n",
       "      <td>3.130000e-01</td>\n",
       "      <td>10^6/cm Ω</td>\n",
       "      <td>Beryllium</td>\n",
       "      <td>Be</td>\n",
       "      <td>4</td>\n",
       "      <td>2.500000e+07</td>\n",
       "      <td>1/m Ω</td>\n",
       "      <td>NaN</td>\n",
       "      <td>7.397940</td>\n",
       "      <td>1</td>\n",
       "    </tr>\n",
       "    <tr>\n",
       "      <th>4</th>\n",
       "      <td>1.000000e-12</td>\n",
       "      <td>10^6/cm Ω</td>\n",
       "      <td>Boron</td>\n",
       "      <td>B</td>\n",
       "      <td>5</td>\n",
       "      <td>1.000000e-04</td>\n",
       "      <td>1/m Ω</td>\n",
       "      <td>NaN</td>\n",
       "      <td>-4.000000</td>\n",
       "      <td>0</td>\n",
       "    </tr>\n",
       "    <tr>\n",
       "      <th>5</th>\n",
       "      <td>6.100000e-04</td>\n",
       "      <td>10^6/cm Ω</td>\n",
       "      <td>Carbon</td>\n",
       "      <td>C</td>\n",
       "      <td>6</td>\n",
       "      <td>1.000000e+05</td>\n",
       "      <td>1/m Ω</td>\n",
       "      <td>Graphite</td>\n",
       "      <td>5.000000</td>\n",
       "      <td>0</td>\n",
       "    </tr>\n",
       "    <tr>\n",
       "      <th>6</th>\n",
       "      <td>2.100000e-01</td>\n",
       "      <td>10^6/cm Ω</td>\n",
       "      <td>Sodium</td>\n",
       "      <td>Na</td>\n",
       "      <td>11</td>\n",
       "      <td>2.100000e+07</td>\n",
       "      <td>1/m Ω</td>\n",
       "      <td>NaN</td>\n",
       "      <td>7.322219</td>\n",
       "      <td>1</td>\n",
       "    </tr>\n",
       "  </tbody>\n",
       "</table>\n",
       "</div>"
      ],
      "text/plain": [
       "   Electrical Conductivity Ang conductivity_unit1       Name Symbol   #  \\\n",
       "2                 1.080000e-01           10^6/cm     Lithium     Li   3   \n",
       "3                 3.130000e-01          10^6/cm Ω  Beryllium     Be   4   \n",
       "4                 1.000000e-12          10^6/cm Ω      Boron      B   5   \n",
       "5                 6.100000e-04          10^6/cm Ω     Carbon      C   6   \n",
       "6                 2.100000e-01          10^6/cm Ω     Sodium     Na  11   \n",
       "\n",
       "   Electrical Conductivity Wolfram conductivity_unit2      Note  log_cond  \\\n",
       "2                     1.100000e+07              1/m Ω       NaN  7.041393   \n",
       "3                     2.500000e+07              1/m Ω       NaN  7.397940   \n",
       "4                     1.000000e-04              1/m Ω       NaN -4.000000   \n",
       "5                     1.000000e+05              1/m Ω  Graphite  5.000000   \n",
       "6                     2.100000e+07              1/m Ω       NaN  7.322219   \n",
       "\n",
       "   metallic  \n",
       "2         1  \n",
       "3         1  \n",
       "4         0  \n",
       "5         0  \n",
       "6         1  "
      ]
     },
     "execution_count": 7,
     "metadata": {},
     "output_type": "execute_result"
    }
   ],
   "source": [
    "df['metallic'] = df['log_cond'].apply(lambda x: np.where(x <= 5.0, 0, 1))\n",
    "df.head()"
   ]
  },
  {
   "cell_type": "markdown",
   "metadata": {},
   "source": [
    "# Featurize elements"
   ]
  },
  {
   "cell_type": "code",
   "execution_count": 8,
   "metadata": {},
   "outputs": [
    {
     "data": {
      "application/vnd.jupyter.widget-view+json": {
       "model_id": "fa5edefab91541e49f854fa0a7b79528",
       "version_major": 2,
       "version_minor": 0
      },
      "text/plain": [
       "HBox(children=(IntProgress(value=0, description='StrToComposition', max=78, style=ProgressStyle(description_wi…"
      ]
     },
     "metadata": {},
     "output_type": "display_data"
    },
    {
     "name": "stdout",
     "output_type": "stream",
     "text": [
      "\n"
     ]
    }
   ],
   "source": [
    "from matminer.featurizers.conversions import StrToComposition\n",
    "df = StrToComposition().featurize_dataframe(df, 'Symbol')"
   ]
  },
  {
   "cell_type": "code",
   "execution_count": 9,
   "metadata": {},
   "outputs": [
    {
     "data": {
      "application/vnd.jupyter.widget-view+json": {
       "model_id": "0cede57bce684c6593bf394004b0bca3",
       "version_major": 2,
       "version_minor": 0
      },
      "text/plain": [
       "HBox(children=(IntProgress(value=0, description='ElementProperty', max=78, style=ProgressStyle(description_wid…"
      ]
     },
     "metadata": {},
     "output_type": "display_data"
    },
    {
     "name": "stdout",
     "output_type": "stream",
     "text": [
      "\n"
     ]
    },
    {
     "data": {
      "text/html": [
       "<div>\n",
       "<style scoped>\n",
       "    .dataframe tbody tr th:only-of-type {\n",
       "        vertical-align: middle;\n",
       "    }\n",
       "\n",
       "    .dataframe tbody tr th {\n",
       "        vertical-align: top;\n",
       "    }\n",
       "\n",
       "    .dataframe thead th {\n",
       "        text-align: right;\n",
       "    }\n",
       "</style>\n",
       "<table border=\"1\" class=\"dataframe\">\n",
       "  <thead>\n",
       "    <tr style=\"text-align: right;\">\n",
       "      <th></th>\n",
       "      <th>Electrical Conductivity Ang</th>\n",
       "      <th>conductivity_unit1</th>\n",
       "      <th>Name</th>\n",
       "      <th>Symbol</th>\n",
       "      <th>#</th>\n",
       "      <th>Electrical Conductivity Wolfram</th>\n",
       "      <th>conductivity_unit2</th>\n",
       "      <th>Note</th>\n",
       "      <th>log_cond</th>\n",
       "      <th>metallic</th>\n",
       "      <th>...</th>\n",
       "      <th>MagpieData range GSmagmom</th>\n",
       "      <th>MagpieData mean GSmagmom</th>\n",
       "      <th>MagpieData avg_dev GSmagmom</th>\n",
       "      <th>MagpieData mode GSmagmom</th>\n",
       "      <th>MagpieData minimum SpaceGroupNumber</th>\n",
       "      <th>MagpieData maximum SpaceGroupNumber</th>\n",
       "      <th>MagpieData range SpaceGroupNumber</th>\n",
       "      <th>MagpieData mean SpaceGroupNumber</th>\n",
       "      <th>MagpieData avg_dev SpaceGroupNumber</th>\n",
       "      <th>MagpieData mode SpaceGroupNumber</th>\n",
       "    </tr>\n",
       "  </thead>\n",
       "  <tbody>\n",
       "    <tr>\n",
       "      <th>2</th>\n",
       "      <td>1.080000e-01</td>\n",
       "      <td>10^6/cm</td>\n",
       "      <td>Lithium</td>\n",
       "      <td>Li</td>\n",
       "      <td>3</td>\n",
       "      <td>1.100000e+07</td>\n",
       "      <td>1/m Ω</td>\n",
       "      <td>NaN</td>\n",
       "      <td>7.041393</td>\n",
       "      <td>1</td>\n",
       "      <td>...</td>\n",
       "      <td>0.0</td>\n",
       "      <td>0.0</td>\n",
       "      <td>0.0</td>\n",
       "      <td>0.0</td>\n",
       "      <td>229.0</td>\n",
       "      <td>229.0</td>\n",
       "      <td>0.0</td>\n",
       "      <td>229.0</td>\n",
       "      <td>0.0</td>\n",
       "      <td>229.0</td>\n",
       "    </tr>\n",
       "    <tr>\n",
       "      <th>3</th>\n",
       "      <td>3.130000e-01</td>\n",
       "      <td>10^6/cm Ω</td>\n",
       "      <td>Beryllium</td>\n",
       "      <td>Be</td>\n",
       "      <td>4</td>\n",
       "      <td>2.500000e+07</td>\n",
       "      <td>1/m Ω</td>\n",
       "      <td>NaN</td>\n",
       "      <td>7.397940</td>\n",
       "      <td>1</td>\n",
       "      <td>...</td>\n",
       "      <td>0.0</td>\n",
       "      <td>0.0</td>\n",
       "      <td>0.0</td>\n",
       "      <td>0.0</td>\n",
       "      <td>194.0</td>\n",
       "      <td>194.0</td>\n",
       "      <td>0.0</td>\n",
       "      <td>194.0</td>\n",
       "      <td>0.0</td>\n",
       "      <td>194.0</td>\n",
       "    </tr>\n",
       "    <tr>\n",
       "      <th>4</th>\n",
       "      <td>1.000000e-12</td>\n",
       "      <td>10^6/cm Ω</td>\n",
       "      <td>Boron</td>\n",
       "      <td>B</td>\n",
       "      <td>5</td>\n",
       "      <td>1.000000e-04</td>\n",
       "      <td>1/m Ω</td>\n",
       "      <td>NaN</td>\n",
       "      <td>-4.000000</td>\n",
       "      <td>0</td>\n",
       "      <td>...</td>\n",
       "      <td>0.0</td>\n",
       "      <td>0.0</td>\n",
       "      <td>0.0</td>\n",
       "      <td>0.0</td>\n",
       "      <td>166.0</td>\n",
       "      <td>166.0</td>\n",
       "      <td>0.0</td>\n",
       "      <td>166.0</td>\n",
       "      <td>0.0</td>\n",
       "      <td>166.0</td>\n",
       "    </tr>\n",
       "    <tr>\n",
       "      <th>5</th>\n",
       "      <td>6.100000e-04</td>\n",
       "      <td>10^6/cm Ω</td>\n",
       "      <td>Carbon</td>\n",
       "      <td>C</td>\n",
       "      <td>6</td>\n",
       "      <td>1.000000e+05</td>\n",
       "      <td>1/m Ω</td>\n",
       "      <td>Graphite</td>\n",
       "      <td>5.000000</td>\n",
       "      <td>0</td>\n",
       "      <td>...</td>\n",
       "      <td>0.0</td>\n",
       "      <td>0.0</td>\n",
       "      <td>0.0</td>\n",
       "      <td>0.0</td>\n",
       "      <td>194.0</td>\n",
       "      <td>194.0</td>\n",
       "      <td>0.0</td>\n",
       "      <td>194.0</td>\n",
       "      <td>0.0</td>\n",
       "      <td>194.0</td>\n",
       "    </tr>\n",
       "    <tr>\n",
       "      <th>6</th>\n",
       "      <td>2.100000e-01</td>\n",
       "      <td>10^6/cm Ω</td>\n",
       "      <td>Sodium</td>\n",
       "      <td>Na</td>\n",
       "      <td>11</td>\n",
       "      <td>2.100000e+07</td>\n",
       "      <td>1/m Ω</td>\n",
       "      <td>NaN</td>\n",
       "      <td>7.322219</td>\n",
       "      <td>1</td>\n",
       "      <td>...</td>\n",
       "      <td>0.0</td>\n",
       "      <td>0.0</td>\n",
       "      <td>0.0</td>\n",
       "      <td>0.0</td>\n",
       "      <td>229.0</td>\n",
       "      <td>229.0</td>\n",
       "      <td>0.0</td>\n",
       "      <td>229.0</td>\n",
       "      <td>0.0</td>\n",
       "      <td>229.0</td>\n",
       "    </tr>\n",
       "  </tbody>\n",
       "</table>\n",
       "<p>5 rows × 143 columns</p>\n",
       "</div>"
      ],
      "text/plain": [
       "   Electrical Conductivity Ang conductivity_unit1       Name Symbol   #  \\\n",
       "2                 1.080000e-01           10^6/cm     Lithium     Li   3   \n",
       "3                 3.130000e-01          10^6/cm Ω  Beryllium     Be   4   \n",
       "4                 1.000000e-12          10^6/cm Ω      Boron      B   5   \n",
       "5                 6.100000e-04          10^6/cm Ω     Carbon      C   6   \n",
       "6                 2.100000e-01          10^6/cm Ω     Sodium     Na  11   \n",
       "\n",
       "   Electrical Conductivity Wolfram conductivity_unit2      Note  log_cond  \\\n",
       "2                     1.100000e+07              1/m Ω       NaN  7.041393   \n",
       "3                     2.500000e+07              1/m Ω       NaN  7.397940   \n",
       "4                     1.000000e-04              1/m Ω       NaN -4.000000   \n",
       "5                     1.000000e+05              1/m Ω  Graphite  5.000000   \n",
       "6                     2.100000e+07              1/m Ω       NaN  7.322219   \n",
       "\n",
       "   metallic  ... MagpieData range GSmagmom  MagpieData mean GSmagmom  \\\n",
       "2         1  ...                       0.0                       0.0   \n",
       "3         1  ...                       0.0                       0.0   \n",
       "4         0  ...                       0.0                       0.0   \n",
       "5         0  ...                       0.0                       0.0   \n",
       "6         1  ...                       0.0                       0.0   \n",
       "\n",
       "   MagpieData avg_dev GSmagmom  MagpieData mode GSmagmom  \\\n",
       "2                          0.0                       0.0   \n",
       "3                          0.0                       0.0   \n",
       "4                          0.0                       0.0   \n",
       "5                          0.0                       0.0   \n",
       "6                          0.0                       0.0   \n",
       "\n",
       "   MagpieData minimum SpaceGroupNumber  MagpieData maximum SpaceGroupNumber  \\\n",
       "2                                229.0                                229.0   \n",
       "3                                194.0                                194.0   \n",
       "4                                166.0                                166.0   \n",
       "5                                194.0                                194.0   \n",
       "6                                229.0                                229.0   \n",
       "\n",
       "   MagpieData range SpaceGroupNumber  MagpieData mean SpaceGroupNumber  \\\n",
       "2                                0.0                             229.0   \n",
       "3                                0.0                             194.0   \n",
       "4                                0.0                             166.0   \n",
       "5                                0.0                             194.0   \n",
       "6                                0.0                             229.0   \n",
       "\n",
       "   MagpieData avg_dev SpaceGroupNumber  MagpieData mode SpaceGroupNumber  \n",
       "2                                  0.0                             229.0  \n",
       "3                                  0.0                             194.0  \n",
       "4                                  0.0                             166.0  \n",
       "5                                  0.0                             194.0  \n",
       "6                                  0.0                             229.0  \n",
       "\n",
       "[5 rows x 143 columns]"
      ]
     },
     "execution_count": 9,
     "metadata": {},
     "output_type": "execute_result"
    }
   ],
   "source": [
    "from matminer.featurizers.composition import ElementProperty\n",
    "\n",
    "ep_feat = ElementProperty.from_preset(preset_name=\"magpie\")\n",
    "df = ep_feat.featurize_dataframe(df, col_id=\"composition\", ignore_errors=True)\n",
    "df.to_csv(\"../../data/hammerfeld_criterion/featurized_elements.csv\",index=False)\n",
    "df.head()"
   ]
  },
  {
   "cell_type": "markdown",
   "metadata": {},
   "source": [
    "# Remove features with 0 variance"
   ]
  },
  {
   "cell_type": "code",
   "execution_count": 10,
   "metadata": {},
   "outputs": [],
   "source": [
    "def remove_redundant_features(X):\n",
    "    \"\"\"Drops zero variance and highly correlated features from DataFrame.\"\"\"\n",
    "    variances = X.var()\n",
    "    backup = X['MagpieData minimum Number'].copy()\n",
    "    to_drop = [column for column in variances.index if variances[column] == 0]\n",
    "    X.drop(columns=to_drop, inplace=True)\n",
    "    \n",
    "    # Create correlation matrix\n",
    "    corr_matrix = X.corr().abs() # Remove text variables before finding correlations\n",
    "\n",
    "    # Select upper triangle of correlation matrix\n",
    "    upper = corr_matrix.where(np.triu(np.ones(corr_matrix.shape), k=1).astype(np.bool))\n",
    "\n",
    "    # Find index of feature columns with correlation greater than 0.97\n",
    "    to_drop = [column for column in upper.columns if any(upper[column] > 0.97)]\n",
    "\n",
    "    X.drop(columns=to_drop, inplace=True)\n",
    "    \n",
    "    # Manually keep atomic numbers\n",
    "    X['MagpieData minimum Number'] = backup\n",
    "    \n",
    "    return X"
   ]
  },
  {
   "cell_type": "code",
   "execution_count": 11,
   "metadata": {},
   "outputs": [
    {
     "data": {
      "text/html": [
       "<div>\n",
       "<style scoped>\n",
       "    .dataframe tbody tr th:only-of-type {\n",
       "        vertical-align: middle;\n",
       "    }\n",
       "\n",
       "    .dataframe tbody tr th {\n",
       "        vertical-align: top;\n",
       "    }\n",
       "\n",
       "    .dataframe thead th {\n",
       "        text-align: right;\n",
       "    }\n",
       "</style>\n",
       "<table border=\"1\" class=\"dataframe\">\n",
       "  <thead>\n",
       "    <tr style=\"text-align: right;\">\n",
       "      <th></th>\n",
       "      <th>Electrical Conductivity Ang</th>\n",
       "      <th>conductivity_unit1</th>\n",
       "      <th>Name</th>\n",
       "      <th>Symbol</th>\n",
       "      <th>#</th>\n",
       "      <th>conductivity_unit2</th>\n",
       "      <th>Note</th>\n",
       "      <th>log_cond</th>\n",
       "      <th>metallic</th>\n",
       "      <th>composition</th>\n",
       "      <th>...</th>\n",
       "      <th>MagpieData minimum NsUnfilled</th>\n",
       "      <th>MagpieData minimum NpUnfilled</th>\n",
       "      <th>MagpieData minimum NdUnfilled</th>\n",
       "      <th>MagpieData minimum NfUnfilled</th>\n",
       "      <th>MagpieData minimum NUnfilled</th>\n",
       "      <th>MagpieData minimum GSvolume_pa</th>\n",
       "      <th>MagpieData minimum GSbandgap</th>\n",
       "      <th>MagpieData minimum GSmagmom</th>\n",
       "      <th>MagpieData minimum SpaceGroupNumber</th>\n",
       "      <th>MagpieData minimum Number</th>\n",
       "    </tr>\n",
       "  </thead>\n",
       "  <tbody>\n",
       "    <tr>\n",
       "      <th>2</th>\n",
       "      <td>1.080000e-01</td>\n",
       "      <td>10^6/cm</td>\n",
       "      <td>Lithium</td>\n",
       "      <td>Li</td>\n",
       "      <td>3</td>\n",
       "      <td>1/m Ω</td>\n",
       "      <td>NaN</td>\n",
       "      <td>7.041393</td>\n",
       "      <td>1</td>\n",
       "      <td>(Li)</td>\n",
       "      <td>...</td>\n",
       "      <td>1.0</td>\n",
       "      <td>0.0</td>\n",
       "      <td>0.0</td>\n",
       "      <td>0.0</td>\n",
       "      <td>1.0</td>\n",
       "      <td>16.593333</td>\n",
       "      <td>0.000</td>\n",
       "      <td>0.0</td>\n",
       "      <td>229.0</td>\n",
       "      <td>3.0</td>\n",
       "    </tr>\n",
       "    <tr>\n",
       "      <th>3</th>\n",
       "      <td>3.130000e-01</td>\n",
       "      <td>10^6/cm Ω</td>\n",
       "      <td>Beryllium</td>\n",
       "      <td>Be</td>\n",
       "      <td>4</td>\n",
       "      <td>1/m Ω</td>\n",
       "      <td>NaN</td>\n",
       "      <td>7.397940</td>\n",
       "      <td>1</td>\n",
       "      <td>(Be)</td>\n",
       "      <td>...</td>\n",
       "      <td>0.0</td>\n",
       "      <td>0.0</td>\n",
       "      <td>0.0</td>\n",
       "      <td>0.0</td>\n",
       "      <td>0.0</td>\n",
       "      <td>7.890000</td>\n",
       "      <td>0.000</td>\n",
       "      <td>0.0</td>\n",
       "      <td>194.0</td>\n",
       "      <td>4.0</td>\n",
       "    </tr>\n",
       "    <tr>\n",
       "      <th>4</th>\n",
       "      <td>1.000000e-12</td>\n",
       "      <td>10^6/cm Ω</td>\n",
       "      <td>Boron</td>\n",
       "      <td>B</td>\n",
       "      <td>5</td>\n",
       "      <td>1/m Ω</td>\n",
       "      <td>NaN</td>\n",
       "      <td>-4.000000</td>\n",
       "      <td>0</td>\n",
       "      <td>(B)</td>\n",
       "      <td>...</td>\n",
       "      <td>0.0</td>\n",
       "      <td>5.0</td>\n",
       "      <td>0.0</td>\n",
       "      <td>0.0</td>\n",
       "      <td>5.0</td>\n",
       "      <td>7.172500</td>\n",
       "      <td>1.524</td>\n",
       "      <td>0.0</td>\n",
       "      <td>166.0</td>\n",
       "      <td>5.0</td>\n",
       "    </tr>\n",
       "    <tr>\n",
       "      <th>5</th>\n",
       "      <td>6.100000e-04</td>\n",
       "      <td>10^6/cm Ω</td>\n",
       "      <td>Carbon</td>\n",
       "      <td>C</td>\n",
       "      <td>6</td>\n",
       "      <td>1/m Ω</td>\n",
       "      <td>Graphite</td>\n",
       "      <td>5.000000</td>\n",
       "      <td>0</td>\n",
       "      <td>(C)</td>\n",
       "      <td>...</td>\n",
       "      <td>0.0</td>\n",
       "      <td>4.0</td>\n",
       "      <td>0.0</td>\n",
       "      <td>0.0</td>\n",
       "      <td>4.0</td>\n",
       "      <td>5.640000</td>\n",
       "      <td>4.496</td>\n",
       "      <td>0.0</td>\n",
       "      <td>194.0</td>\n",
       "      <td>6.0</td>\n",
       "    </tr>\n",
       "    <tr>\n",
       "      <th>6</th>\n",
       "      <td>2.100000e-01</td>\n",
       "      <td>10^6/cm Ω</td>\n",
       "      <td>Sodium</td>\n",
       "      <td>Na</td>\n",
       "      <td>11</td>\n",
       "      <td>1/m Ω</td>\n",
       "      <td>NaN</td>\n",
       "      <td>7.322219</td>\n",
       "      <td>1</td>\n",
       "      <td>(Na)</td>\n",
       "      <td>...</td>\n",
       "      <td>1.0</td>\n",
       "      <td>0.0</td>\n",
       "      <td>0.0</td>\n",
       "      <td>0.0</td>\n",
       "      <td>1.0</td>\n",
       "      <td>29.243333</td>\n",
       "      <td>0.000</td>\n",
       "      <td>0.0</td>\n",
       "      <td>229.0</td>\n",
       "      <td>11.0</td>\n",
       "    </tr>\n",
       "  </tbody>\n",
       "</table>\n",
       "<p>5 rows × 31 columns</p>\n",
       "</div>"
      ],
      "text/plain": [
       "   Electrical Conductivity Ang conductivity_unit1       Name Symbol   #  \\\n",
       "2                 1.080000e-01           10^6/cm     Lithium     Li   3   \n",
       "3                 3.130000e-01          10^6/cm Ω  Beryllium     Be   4   \n",
       "4                 1.000000e-12          10^6/cm Ω      Boron      B   5   \n",
       "5                 6.100000e-04          10^6/cm Ω     Carbon      C   6   \n",
       "6                 2.100000e-01          10^6/cm Ω     Sodium     Na  11   \n",
       "\n",
       "  conductivity_unit2      Note  log_cond  metallic composition  ...  \\\n",
       "2              1/m Ω       NaN  7.041393         1        (Li)  ...   \n",
       "3              1/m Ω       NaN  7.397940         1        (Be)  ...   \n",
       "4              1/m Ω       NaN -4.000000         0         (B)  ...   \n",
       "5              1/m Ω  Graphite  5.000000         0         (C)  ...   \n",
       "6              1/m Ω       NaN  7.322219         1        (Na)  ...   \n",
       "\n",
       "   MagpieData minimum NsUnfilled  MagpieData minimum NpUnfilled  \\\n",
       "2                            1.0                            0.0   \n",
       "3                            0.0                            0.0   \n",
       "4                            0.0                            5.0   \n",
       "5                            0.0                            4.0   \n",
       "6                            1.0                            0.0   \n",
       "\n",
       "   MagpieData minimum NdUnfilled  MagpieData minimum NfUnfilled  \\\n",
       "2                            0.0                            0.0   \n",
       "3                            0.0                            0.0   \n",
       "4                            0.0                            0.0   \n",
       "5                            0.0                            0.0   \n",
       "6                            0.0                            0.0   \n",
       "\n",
       "   MagpieData minimum NUnfilled  MagpieData minimum GSvolume_pa  \\\n",
       "2                           1.0                       16.593333   \n",
       "3                           0.0                        7.890000   \n",
       "4                           5.0                        7.172500   \n",
       "5                           4.0                        5.640000   \n",
       "6                           1.0                       29.243333   \n",
       "\n",
       "   MagpieData minimum GSbandgap  MagpieData minimum GSmagmom  \\\n",
       "2                         0.000                          0.0   \n",
       "3                         0.000                          0.0   \n",
       "4                         1.524                          0.0   \n",
       "5                         4.496                          0.0   \n",
       "6                         0.000                          0.0   \n",
       "\n",
       "   MagpieData minimum SpaceGroupNumber  MagpieData minimum Number  \n",
       "2                                229.0                        3.0  \n",
       "3                                194.0                        4.0  \n",
       "4                                166.0                        5.0  \n",
       "5                                194.0                        6.0  \n",
       "6                                229.0                       11.0  \n",
       "\n",
       "[5 rows x 31 columns]"
      ]
     },
     "execution_count": 11,
     "metadata": {},
     "output_type": "execute_result"
    }
   ],
   "source": [
    "df = remove_redundant_features(df)\n",
    "df.head()"
   ]
  },
  {
   "cell_type": "markdown",
   "metadata": {},
   "source": [
    "# Run classifier model to predict metallicity"
   ]
  },
  {
   "cell_type": "code",
   "execution_count": 12,
   "metadata": {},
   "outputs": [],
   "source": [
    "from sklearn.ensemble import GradientBoostingClassifier\n",
    "from sklearn.model_selection import train_test_split\n",
    "from sklearn.metrics import accuracy_score\n",
    "import scipy.stats\n",
    "\n",
    "def mean_confidence_interval(data, confidence=0.95):\n",
    "    a = 1.0 * np.array(data)\n",
    "    n = len(a)\n",
    "    m, se = np.mean(a), scipy.stats.sem(a)\n",
    "    h = se * scipy.stats.t.ppf((1 + confidence) / 2., n-1)\n",
    "    return m, h\n",
    "\n",
    "def get_scores(X, y, model, metric, test_size=0.15):\n",
    "    \"\"\"Computes a model metric across CV runs.\"\"\"\n",
    "    scores = []\n",
    "    for seed in range(10):\n",
    "        X_train, X_test, y_train, y_test = train_test_split(\n",
    "            X.drop(columns=['Symbol']), y, test_size=test_size, random_state=seed)\n",
    "        model.fit(X_train, y_train)\n",
    "\n",
    "        # Estimate score\n",
    "        y_pred = model.predict(X_test)\n",
    "        score = metric(y_test, y_pred)\n",
    "        scores.append(score)\n",
    "        \n",
    "    return scores"
   ]
  },
  {
   "cell_type": "code",
   "execution_count": 13,
   "metadata": {},
   "outputs": [],
   "source": [
    "X = df.drop(columns=['Electrical Conductivity Ang',\n",
    "                     'conductivity_unit1',\n",
    "                     'Name',\n",
    "                     '#',\n",
    "                     'conductivity_unit2',\n",
    "                     'Note',\n",
    "                     'composition', \n",
    "                     'log_cond',\n",
    "                     'metallic'])\n",
    "y = df.loc[:, 'metallic']"
   ]
  },
  {
   "cell_type": "markdown",
   "metadata": {},
   "source": [
    "## Access accuracy across 10 different runs using 20% of data as test set"
   ]
  },
  {
   "cell_type": "code",
   "execution_count": 14,
   "metadata": {},
   "outputs": [],
   "source": [
    "# Function for hyperparameter selection\n",
    "from sklearn.model_selection import GridSearchCV\n",
    "def grid_search(model):\n",
    "    \"\"\"Conducts grid search to find optimal model hyperparameters for all 3 classes.\"\"\"\n",
    "    param_grid = {'n_estimators': [10, 20, 40, 80, 100, 150, 200], \n",
    "                 'max_depth': [2, 3, 5],\n",
    "                 'learning_rate': np.logspace(-3, 2, num=6)\n",
    "                 }\n",
    "    xgb = GridSearchCV(model, param_grid, cv=5, n_jobs=8)\n",
    "    X_train, X_test, y_train, y_test = train_test_split(\n",
    "    X.drop(columns=['Symbol']), y, test_size=0.2)\n",
    "    t0 = time.time()\n",
    "    xgb.fit(X_train, y_train)\n",
    "    xgb_fit = time.time() - t0\n",
    "    print(\"XGB hyperparameters selected in %.3f s\"\n",
    "          % (xgb_fit))\n",
    "    params = xgb.best_params_\n",
    "    return params"
   ]
  },
  {
   "cell_type": "code",
   "execution_count": 15,
   "metadata": {},
   "outputs": [
    {
     "name": "stdout",
     "output_type": "stream",
     "text": [
      "XGB hyperparameters selected in 4.571 s\n",
      "{'learning_rate': 0.01, 'max_depth': 2, 'n_estimators': 80}\n"
     ]
    },
    {
     "name": "stderr",
     "output_type": "stream",
     "text": [
      "/home/nicholas/Downloads/scikit-learn/sklearn/model_selection/_search.py:803: DeprecationWarning:\n",
      "\n",
      "The default of the `iid` parameter will change from True to False in version 0.22 and will be removed in 0.24. This will change numeric results when test-set sizes are unequal.\n",
      "\n"
     ]
    }
   ],
   "source": [
    "model = GradientBoostingClassifier()\n",
    "best_params = grid_search(model)\n",
    "print(best_params)\n",
    "model = GradientBoostingClassifier(**best_params)"
   ]
  },
  {
   "cell_type": "code",
   "execution_count": 16,
   "metadata": {},
   "outputs": [
    {
     "name": "stdout",
     "output_type": "stream",
     "text": [
      "[0.9152542372881356, 0.9152542372881356, 0.9661016949152542, 0.9830508474576272, 0.9322033898305084, 0.8305084745762712, 0.9322033898305084, 0.9491525423728814, 0.8813559322033898, 0.8813559322033898]\n",
      "Mean accuracy: 0.92+/-0.03\n"
     ]
    }
   ],
   "source": [
    "scores = get_scores(X, y, model, metric=accuracy_score, test_size=0.75)\n",
    "print(scores)\n",
    "mean, conf_interval = mean_confidence_interval(scores, confidence=0.95)\n",
    "print('Mean accuracy: {:0.2f}+/-{:0.2f}'.format(mean, conf_interval))"
   ]
  },
  {
   "cell_type": "code",
   "execution_count": 17,
   "metadata": {},
   "outputs": [],
   "source": [
    "def plot_train_test(X, y, test_size=0.15, seed=2, figsize=(6, 8), dpi=150, s=12, labelsize=16):\n",
    "    \"\"\"Trains metallicity model and scatter plots predictions.\n",
    "    \n",
    "    Args:\n",
    "        X (pandas Dataframe): input features\n",
    "        y (pandas Dataframe): ground truth labels of metallicity\n",
    "        test_size (Float): portion of data set aside for testing, remainder will be trained on\n",
    "        seed (Integer): random seed for shuffling data\n",
    "        figsize (Tuple): dimensions of output figure\n",
    "        dpi (Integer): dots per inch resolution of figure\n",
    "        s (Integer): size of dots in scatter plot\n",
    "        labelsize (Integer): fontsize for names of elements\n",
    "    \"\"\"\n",
    "    X_train, X_test, y_train, y_test = train_test_split(\n",
    "            X.drop(columns=['Symbol']), y, test_size=test_size, random_state=seed)\n",
    "    model.fit(X_train, y_train)\n",
    "    predictions = model.predict(X_test)\n",
    "    \n",
    "    # Plot training set\n",
    "    fig = plt.figure(figsize=figsize, dpi=dpi)\n",
    "    plt.scatter(y_train, X_train['MagpieData minimum Number'], s=s)\n",
    "    \n",
    "    # Plotting utility function\n",
    "    def plot_subset(mask):\n",
    "        X_subset = X_test['MagpieData minimum Number'].values[mask]\n",
    "        y_subset = y_test.values[mask]\n",
    "        plt.scatter(y_subset, X_subset, s=s)\n",
    "        labels = [X.loc[X['MagpieData minimum Number'] == x, 'Symbol'].values[0] for x in X_subset]\n",
    "        for i, txt in enumerate(labels):\n",
    "            plt.annotate(labels[i], \n",
    "                         (y_subset[i], X_subset[i]),\n",
    "                        fontsize=labelsize,\n",
    "                        ha='right',\n",
    "                        va='center',\n",
    "                        xytext=(-4, 0),\n",
    "                        textcoords='offset points')\n",
    "            \n",
    "    # Plot correctly predicted elements in test set\n",
    "    mask = np.equal(y_test.values, predictions)\n",
    "    plot_subset(mask)\n",
    "    \n",
    "    # Plot incorrectly predicted elements in test set\n",
    "    mask = np.invert(mask)\n",
    "    plot_subset(mask)\n",
    "    \n",
    "    plt.axis(\"tight\")\n",
    "    plt.ylabel(\"Atomic Number\", fontsize=24)\n",
    "    plt.xlabel(\"True Metallicity\", fontsize=24)\n",
    "    plt.tick_params(axis='both', which='major', labelsize=24)\n",
    "    plt.legend(['Training', 'Test_correct', 'Test_wrong'])\n",
    "    plt.show()"
   ]
  },
  {
   "cell_type": "markdown",
   "metadata": {},
   "source": [
    "## Plot which test set elements are gussed correctly and incorrectly"
   ]
  },
  {
   "cell_type": "code",
   "execution_count": 18,
   "metadata": {},
   "outputs": [
    {
     "data": {
      "image/png": "[encoded data removed]",
      "text/plain": [
       "<Figure size 300x600 with 1 Axes>"
      ]
     },
     "metadata": {
      "needs_background": "light"
     },
     "output_type": "display_data"
    }
   ],
   "source": [
    "# Play around with seed to change test set\n",
    "# Increase test size to change difficulty\n",
    "# It is possible to get near perfect accuracies even with only 1/4 the elements in training!\n",
    "model = GradientBoostingClassifier(**best_params)\n",
    "plot_train_test(X, y, test_size=0.75, seed=1, figsize=(3,6), s=20, labelsize=16, dpi=100)"
   ]
  },
  {
   "cell_type": "markdown",
   "metadata": {},
   "source": [
    "# Phosphorus seems like an outlier..."
   ]
  },
  {
   "cell_type": "markdown",
   "metadata": {},
   "source": [
    "Turns out Wolfram's value is probably for a particular direction in a single crystal.\n",
    "A measurement from the 1950's says phosphorus's resistivity is closer to tellurium. https://doi.org/10.1103/PhysRev.92.580\n",
    "So maybe we should reclassify it."
   ]
  },
  {
   "cell_type": "code",
   "execution_count": 19,
   "metadata": {},
   "outputs": [],
   "source": [
    "# Let's correct that and replot\n",
    "ind = X.loc[X['Symbol'] == 'P'].index  # Get index\n",
    "y[ind] = 0\n",
    "model = GradientBoostingClassifier(**best_params)"
   ]
  },
  {
   "cell_type": "code",
   "execution_count": 20,
   "metadata": {},
   "outputs": [
    {
     "name": "stdout",
     "output_type": "stream",
     "text": [
      "[0.9152542372881356, 0.9152542372881356, 0.9830508474576272, 1.0, 0.9152542372881356, 0.9322033898305084, 0.9661016949152542, 1.0, 0.8813559322033898, 0.864406779661017]\n",
      "Mean accuracy: 0.94+/-0.03\n"
     ]
    }
   ],
   "source": [
    "scores = get_scores(X, y, model, metric=accuracy_score, test_size=0.75)\n",
    "print(scores)\n",
    "mean, conf_interval = mean_confidence_interval(scores, confidence=0.95)\n",
    "print('Mean accuracy: {:0.2f}+/-{:0.2f}'.format(mean, conf_interval))"
   ]
  },
  {
   "cell_type": "code",
   "execution_count": 21,
   "metadata": {},
   "outputs": [
    {
     "data": {
      "image/png": "[encoded data removed]",
      "text/plain": [
       "<Figure size 300x600 with 1 Axes>"
      ]
     },
     "metadata": {
      "needs_background": "light"
     },
     "output_type": "display_data"
    }
   ],
   "source": [
    "plot_train_test(X, y, test_size=0.75, seed=5, figsize=(3,6), s=20, labelsize=16, dpi=100)"
   ]
  },
  {
   "cell_type": "markdown",
   "metadata": {},
   "source": [
    "# Use regression to predict log of conductivity"
   ]
  },
  {
   "cell_type": "markdown",
   "metadata": {},
   "source": [
    "Regression is usually harder than classification"
   ]
  },
  {
   "cell_type": "code",
   "execution_count": 22,
   "metadata": {},
   "outputs": [],
   "source": [
    "X = df.drop(columns=['Electrical Conductivity Ang',\n",
    "                     'conductivity_unit1',\n",
    "                     'Name',\n",
    "                     '#',\n",
    "                     'conductivity_unit2',\n",
    "                     'Note',\n",
    "                     'composition', \n",
    "                     'log_cond',\n",
    "                     'metallic'])\n",
    "y = df.loc[:, 'log_cond']"
   ]
  },
  {
   "cell_type": "code",
   "execution_count": 23,
   "metadata": {},
   "outputs": [
    {
     "name": "stdout",
     "output_type": "stream",
     "text": [
      "Mean mean absolute error: 1.32+/-0.42\n",
      "Mean R2 score: -1.07+/-1.63\n"
     ]
    }
   ],
   "source": [
    "from xgboost import XGBRegressor, plot_importance\n",
    "from sklearn.metrics import mean_absolute_error, r2_score\n",
    "\n",
    "# GridSearchCV does not work with this regressor+data combination,\n",
    "# so use default parameters.\n",
    "model = XGBRegressor()\n",
    "\n",
    "maes = get_scores(X, y, model, metric=mean_absolute_error, test_size=0.5)\n",
    "mean, conf_interval = mean_confidence_interval(maes, confidence=0.95)\n",
    "print('Mean mean absolute error: {:0.2f}+/-{:0.2f}'.format(mean, conf_interval))\n",
    "r2s = get_scores(X, y, model, metric=r2_score, test_size=0.5)\n",
    "mean, conf_interval = mean_confidence_interval(r2s, confidence=0.95)\n",
    "print(\"Mean R2 score: {:0.2f}+/-{:0.2f}\".format(mean, conf_interval))"
   ]
  },
  {
   "cell_type": "code",
   "execution_count": 24,
   "metadata": {},
   "outputs": [
    {
     "data": {
      "image/png": "[encoded data removed]",
      "text/plain": [
       "<Figure size 1008x576 with 2 Axes>"
      ]
     },
     "metadata": {
      "needs_background": "light"
     },
     "output_type": "display_data"
    }
   ],
   "source": [
    "fig, axarr = plt.subplots(nrows=2, figsize=(14,8), sharey=True)\n",
    "plt.yticks([0, 1, 2, 3, 4])\n",
    "axarr[0].hist(maes)\n",
    "axarr[0].set_title('MAE')\n",
    "oldmaes = maes\n",
    "axarr[1].hist(r2s)\n",
    "axarr[1].set_title('R^2')\n",
    "for ax in axarr:\n",
    "    for item in ([ax.title, ax.xaxis.label, ax.yaxis.label] +\n",
    "                 ax.get_xticklabels() + ax.get_yticklabels()):\n",
    "        item.set_fontsize(fontsize)\n",
    "oldr2s = r2s\n",
    "plt.tight_layout()\n",
    "plt.show()"
   ]
  },
  {
   "cell_type": "code",
   "execution_count": 25,
   "metadata": {},
   "outputs": [],
   "source": [
    "def plot_train_test_regression(X, y, test_size=0.15, seed=2, figsize=(6, 8), dpi=150, s=12, labelsize=16):\n",
    "    \"\"\"Trains metallicity model and scatter plots predictions.\n",
    "    \n",
    "    Args:\n",
    "        X (pandas Dataframe): input features\n",
    "        y (pandas Dataframe): ground truth labels\n",
    "        test_size (Float): portion of data set aside for testing, remainder will be trained on\n",
    "        seed (Integer): random seed for shuffling data\n",
    "        figsize (Tuple): dimensions of output figure\n",
    "        dpi (Integer): dots per inch resolution of figure\n",
    "        s (Integer): size of dots in scatter plot\n",
    "        labelsize (Integer): fontsize for names of elements\n",
    "    \"\"\"\n",
    "    X_train, X_test, y_train, y_test = train_test_split(\n",
    "            X.drop(columns=['Symbol']), y, test_size=test_size, random_state=seed)\n",
    "    model.fit(X_train, y_train)\n",
    "    predictions = model.predict(X_test)\n",
    "    predictions = np.reshape(predictions, (len(predictions), 1))\n",
    "    \n",
    "    # Plot training set\n",
    "    fig = plt.figure(figsize=figsize, dpi=dpi)\n",
    "#     plt.scatter(X_train['MagpieData minimum Number'], y_train, s=s)\n",
    "    \n",
    "    # Plot real test values\n",
    "    plt.scatter(X_test['MagpieData minimum Number'], y_test, s=s)\n",
    "    x_nums = X_test['MagpieData minimum Number'].values\n",
    "    labels = [X.loc[X['MagpieData minimum Number'] == x, 'Symbol'].values[0] for x in x_nums]\n",
    "    for i, txt in enumerate(labels):\n",
    "        plt.annotate(labels[i], \n",
    "                     (x_nums[i], y_test.values[i]),\n",
    "                    fontsize=labelsize,\n",
    "                    ha='right',\n",
    "                    va='center',\n",
    "                    xytext=(-1.5, 1.5),\n",
    "                    textcoords='offset points')\n",
    "    \n",
    "    # Plot predicted values\n",
    "    plt.scatter(X_test['MagpieData minimum Number'], predictions, s=s)\n",
    "    \n",
    "    plt.ylim([-15.1, 8])\n",
    "#     plt.axis(\"tight\")\n",
    "    plt.xlabel(\"Atomic Number\", fontsize=24)\n",
    "    plt.ylabel(\"Log conductivity\", fontsize=24)\n",
    "    plt.tick_params(axis='both', which='major', labelsize=24)\n",
    "    plt.legend(['Test', 'Predictions'])\n",
    "#     plt.legend(['Training', 'Test', 'Predictions'])\n",
    "    plt.show()"
   ]
  },
  {
   "cell_type": "code",
   "execution_count": 27,
   "metadata": {
    "scrolled": false
   },
   "outputs": [
    {
     "data": {
      "image/png": "[encoded data removed]",
      "text/plain": [
       "<Figure size 800x500 with 1 Axes>"
      ]
     },
     "metadata": {
      "needs_background": "light"
     },
     "output_type": "display_data"
    }
   ],
   "source": [
    "plot_train_test_regression(X, y, test_size=0.15, seed=3, figsize=(8, 5), labelsize=16, dpi=100)"
   ]
  },
  {
   "cell_type": "markdown",
   "metadata": {},
   "source": [
    "# In Conclusion"
   ]
  },
  {
   "cell_type": "markdown",
   "metadata": {},
   "source": [
    "Comparing with the predictions using molar refractivity, "
   ]
  }
 ],
 "metadata": {
  "kernelspec": {
   "display_name": "Python 3",
   "language": "python",
   "name": "python3"
  },
  "language_info": {
   "codemirror_mode": {
    "name": "ipython",
    "version": 3
   },
   "file_extension": ".py",
   "mimetype": "text/x-python",
   "name": "python",
   "nbconvert_exporter": "python",
   "pygments_lexer": "ipython3",
   "version": "3.6.8"
  }
 },
 "nbformat": 4,
 "nbformat_minor": 2
}
